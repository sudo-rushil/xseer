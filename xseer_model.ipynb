{
 "cells": [
  {
   "cell_type": "code",
   "execution_count": 1,
   "metadata": {
    "ExecuteTime": {
     "end_time": "2019-11-29T08:01:58.003562Z",
     "start_time": "2019-11-29T08:01:53.954900Z"
    }
   },
   "outputs": [],
   "source": [
    "import tensorflow as tf\n",
    "from tensorflow.keras.layers import Input, Conv1D, Embedding, Dense, Dropout, MaxPooling1D, LSTM\n",
    "import numpy as np\n",
    "import gzip\n",
    "import os"
   ]
  },
  {
   "cell_type": "code",
   "execution_count": 2,
   "metadata": {
    "ExecuteTime": {
     "end_time": "2019-11-29T08:01:59.633185Z",
     "start_time": "2019-11-29T08:01:59.630632Z"
    }
   },
   "outputs": [],
   "source": [
    "tf.keras.backend.set_floatx('float64')"
   ]
  },
  {
   "cell_type": "code",
   "execution_count": 3,
   "metadata": {
    "ExecuteTime": {
     "end_time": "2019-11-29T08:02:21.121859Z",
     "start_time": "2019-11-29T08:02:06.713161Z"
    }
   },
   "outputs": [],
   "source": [
    "with gzip.open('spectra_vecs.npy.gz') as f:\n",
    "    A = np.load(f)[:10000]"
   ]
  },
  {
   "cell_type": "code",
   "execution_count": 4,
   "metadata": {
    "ExecuteTime": {
     "end_time": "2019-11-29T08:02:25.316013Z",
     "start_time": "2019-11-29T08:02:24.214902Z"
    }
   },
   "outputs": [],
   "source": [
    "R = np.random.normal(0, 1, size=(10000, 4000))\n",
    "input_tensor, target_tensor = np.expand_dims(A + R, axis=-1), A"
   ]
  },
  {
   "cell_type": "code",
   "execution_count": 5,
   "metadata": {
    "ExecuteTime": {
     "end_time": "2019-11-29T08:02:27.133720Z",
     "start_time": "2019-11-29T08:02:27.130549Z"
    }
   },
   "outputs": [
    {
     "name": "stdout",
     "output_type": "stream",
     "text": [
      "(10000, 4000, 1)\n",
      "(10000, 4000)\n"
     ]
    }
   ],
   "source": [
    "print(input_tensor.shape)\n",
    "print(target_tensor.shape)"
   ]
  },
  {
   "cell_type": "code",
   "execution_count": 15,
   "metadata": {
    "ExecuteTime": {
     "end_time": "2019-11-29T08:04:26.384136Z",
     "start_time": "2019-11-29T08:04:26.377248Z"
    }
   },
   "outputs": [],
   "source": [
    "def build_DAE():\n",
    "    spec_input = Input(shape=(4000, 1), dtype='float64', name='spec_input')\n",
    "    conv = Conv1D(filters=128, kernel_size=5, padding='same', activation='relu', strides=4)(spec_input)\n",
    "    pool = MaxPooling1D(pool_size=2, padding='same')(conv)\n",
    "    conv2 = Conv1D(filters=64, kernel_size=5, padding='same', activation='relu', strides=4)(pool)\n",
    "    pool2 = MaxPooling1D(pool_size=2, padding='same')(conv2)\n",
    "    conv3 = Conv1D(filters=32, kernel_size=3, padding='same', activation='relu', strides=4)(pool2)\n",
    "    pool3 = MaxPooling1D(pool_size=2, padding='same')(conv3)\n",
    "    flat = tf.keras.layers.Flatten()(pool3)\n",
    "    \n",
    "    ## Begin upsampling layers\n",
    "#     up = Dense(640, activation='elu', kernel_regularizer=tf.keras.regularizers.l2())(flat)\n",
    "#     up2 = Dense(1024, activation='elu', kernel_regularizer=tf.keras.regularizers.l2)(up)\n",
    "#     up3 = Dense(2048, activation='elu', kernel_regularizer=tf.keras.regularizers.l2)(up2)\n",
    "    out = Dense(4000, kernel_regularizer=tf.keras.regularizers.l2())(flat)\n",
    "    model = tf.keras.Model(inputs=spec_input, outputs=out)\n",
    "    return model"
   ]
  },
  {
   "cell_type": "code",
   "execution_count": 16,
   "metadata": {
    "ExecuteTime": {
     "end_time": "2019-11-29T08:04:26.687486Z",
     "start_time": "2019-11-29T08:04:26.572300Z"
    }
   },
   "outputs": [],
   "source": [
    "model = build_DAE()"
   ]
  },
  {
   "cell_type": "code",
   "execution_count": 17,
   "metadata": {
    "ExecuteTime": {
     "end_time": "2019-11-29T08:04:26.753331Z",
     "start_time": "2019-11-29T08:04:26.748883Z"
    }
   },
   "outputs": [
    {
     "name": "stdout",
     "output_type": "stream",
     "text": [
      "Model: \"model_3\"\n",
      "_________________________________________________________________\n",
      "Layer (type)                 Output Shape              Param #   \n",
      "=================================================================\n",
      "spec_input (InputLayer)      [(None, 4000, 1)]         0         \n",
      "_________________________________________________________________\n",
      "conv1d_8 (Conv1D)            (None, 1000, 128)         768       \n",
      "_________________________________________________________________\n",
      "max_pooling1d_8 (MaxPooling1 (None, 500, 128)          0         \n",
      "_________________________________________________________________\n",
      "conv1d_9 (Conv1D)            (None, 125, 64)           41024     \n",
      "_________________________________________________________________\n",
      "max_pooling1d_9 (MaxPooling1 (None, 63, 64)            0         \n",
      "_________________________________________________________________\n",
      "conv1d_10 (Conv1D)           (None, 16, 32)            6176      \n",
      "_________________________________________________________________\n",
      "max_pooling1d_10 (MaxPooling (None, 8, 32)             0         \n",
      "_________________________________________________________________\n",
      "flatten_3 (Flatten)          (None, 256)               0         \n",
      "_________________________________________________________________\n",
      "dense_5 (Dense)              (None, 4000)              1028000   \n",
      "=================================================================\n",
      "Total params: 1,075,968\n",
      "Trainable params: 1,075,968\n",
      "Non-trainable params: 0\n",
      "_________________________________________________________________\n"
     ]
    }
   ],
   "source": [
    "model.summary()"
   ]
  },
  {
   "cell_type": "code",
   "execution_count": 23,
   "metadata": {
    "ExecuteTime": {
     "end_time": "2019-11-29T08:11:22.664600Z",
     "start_time": "2019-11-29T08:11:22.610103Z"
    }
   },
   "outputs": [],
   "source": [
    "model.compile(optimizer='adam', loss='mse', metrics=['accuracy', 'mse'])"
   ]
  },
  {
   "cell_type": "code",
   "execution_count": 19,
   "metadata": {
    "ExecuteTime": {
     "end_time": "2019-11-29T08:07:50.645676Z",
     "start_time": "2019-11-29T08:04:57.429446Z"
    }
   },
   "outputs": [
    {
     "name": "stdout",
     "output_type": "stream",
     "text": [
      "Train on 8000 samples, validate on 2000 samples\n",
      "8000/8000 [==============================] - 173s 22ms/sample - loss: 157.0781 - accuracy: 0.8259 - val_loss: 3.4078 - val_accuracy: 1.0000\n"
     ]
    },
    {
     "data": {
      "text/plain": [
       "<tensorflow.python.keras.callbacks.History at 0x7ff4793abf10>"
      ]
     },
     "execution_count": 19,
     "metadata": {},
     "output_type": "execute_result"
    }
   ],
   "source": [
    "model.fit(input_tensor, target_tensor, batch_size=20, validation_split=0.2)"
   ]
  },
  {
   "cell_type": "code",
   "execution_count": 24,
   "metadata": {
    "ExecuteTime": {
     "end_time": "2019-11-29T08:49:05.054301Z",
     "start_time": "2019-11-29T08:11:24.965157Z"
    }
   },
   "outputs": [
    {
     "name": "stdout",
     "output_type": "stream",
     "text": [
      "Train on 8000 samples, validate on 2000 samples\n",
      "Epoch 1/5\n",
      "8000/8000 [==============================] - 175s 22ms/sample - loss: 5.0956 - accuracy: 0.9785 - mse: 2.6459 - val_loss: 1.9160 - val_accuracy: 1.0000 - val_mse: 0.0020\n",
      "Epoch 2/5\n",
      "8000/8000 [==============================] - 178s 22ms/sample - loss: 1.4927 - accuracy: 1.0000 - mse: 0.0033 - val_loss: 1.1385 - val_accuracy: 1.0000 - val_mse: 0.0121\n",
      "Epoch 3/5\n",
      "8000/8000 [==============================] - 172s 22ms/sample - loss: 0.8800 - accuracy: 1.0000 - mse: 0.0069 - val_loss: 0.6747 - val_accuracy: 1.0000 - val_mse: 0.0140\n",
      "Epoch 4/5\n",
      "8000/8000 [==============================] - 179s 22ms/sample - loss: 0.7280 - accuracy: 1.0000 - mse: 0.1998 - val_loss: 0.5899 - val_accuracy: 1.0000 - val_mse: 0.1597\n",
      "Epoch 5/5\n",
      "8000/8000 [==============================] - 1555s 194ms/sample - loss: 0.6251 - accuracy: 1.0000 - mse: 0.2526 - val_loss: 0.3679 - val_accuracy: 1.0000 - val_mse: 0.0432\n"
     ]
    },
    {
     "data": {
      "text/plain": [
       "<tensorflow.python.keras.callbacks.History at 0x7ff4acf00f10>"
      ]
     },
     "execution_count": 24,
     "metadata": {},
     "output_type": "execute_result"
    }
   ],
   "source": [
    "model.fit(input_tensor, target_tensor, batch_size=20, validation_split=0.2, epochs=5)"
   ]
  },
  {
   "cell_type": "code",
   "execution_count": null,
   "metadata": {
    "ExecuteTime": {
     "start_time": "2019-11-29T08:49:09.529Z"
    }
   },
   "outputs": [],
   "source": [
    "model.save('xseer_model.h5')"
   ]
  },
  {
   "cell_type": "code",
   "execution_count": null,
   "metadata": {},
   "outputs": [],
   "source": []
  }
 ],
 "metadata": {
  "kernelspec": {
   "display_name": "Python 3",
   "language": "python",
   "name": "python3"
  },
  "language_info": {
   "codemirror_mode": {
    "name": "ipython",
    "version": 3
   },
   "file_extension": ".py",
   "mimetype": "text/x-python",
   "name": "python",
   "nbconvert_exporter": "python",
   "pygments_lexer": "ipython3",
   "version": "3.7.5"
  }
 },
 "nbformat": 4,
 "nbformat_minor": 2
}
