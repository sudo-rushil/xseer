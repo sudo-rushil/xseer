{
 "cells": [
  {
   "cell_type": "code",
   "execution_count": 1,
   "metadata": {
    "ExecuteTime": {
     "end_time": "2019-11-27T20:49:27.587441Z",
     "start_time": "2019-11-27T20:49:24.594007Z"
    }
   },
   "outputs": [],
   "source": [
    "import tensorflow as tf\n",
    "from tensorflow.keras.layers import Input, Conv1D, Embedding, Dense, Dropout, MaxPooling1D, LSTM\n",
    "import numpy as np\n",
    "import gzip\n",
    "import os"
   ]
  },
  {
   "cell_type": "code",
   "execution_count": 2,
   "metadata": {
    "ExecuteTime": {
     "end_time": "2019-11-27T20:45:29.094878Z",
     "start_time": "2019-11-27T20:45:29.092349Z"
    }
   },
   "outputs": [],
   "source": [
    "tf.keras.backend.set_floatx('float64')"
   ]
  },
  {
   "cell_type": "code",
   "execution_count": 3,
   "metadata": {
    "ExecuteTime": {
     "end_time": "2019-11-27T20:46:20.478575Z",
     "start_time": "2019-11-27T20:45:30.617769Z"
    }
   },
   "outputs": [],
   "source": [
    "with gzip.open('spectra_vecs.npy.gz') as f:\n",
    "    A = np.load(f)"
   ]
  },
  {
   "cell_type": "code",
   "execution_count": 6,
   "metadata": {
    "ExecuteTime": {
     "end_time": "2019-11-27T20:48:33.000895Z",
     "start_time": "2019-11-27T20:48:26.697065Z"
    }
   },
   "outputs": [],
   "source": [
    "R = np.random.normal(0, 1, size=(10000, 5500))\n",
    "input_tensor, target_tensor = np.expand_dims(A[:10000] + R, axis=-1), A[:10000]"
   ]
  },
  {
   "cell_type": "code",
   "execution_count": 7,
   "metadata": {
    "ExecuteTime": {
     "end_time": "2019-11-27T20:48:35.320143Z",
     "start_time": "2019-11-27T20:48:35.317196Z"
    }
   },
   "outputs": [
    {
     "name": "stdout",
     "output_type": "stream",
     "text": [
      "(10000, 5500, 1)\n",
      "(10000, 5500)\n"
     ]
    }
   ],
   "source": [
    "print(input_tensor.shape)\n",
    "print(target_tensor.shape)"
   ]
  },
  {
   "cell_type": "code",
   "execution_count": 8,
   "metadata": {
    "ExecuteTime": {
     "end_time": "2019-11-27T20:48:40.258907Z",
     "start_time": "2019-11-27T20:48:40.233256Z"
    }
   },
   "outputs": [],
   "source": [
    "def build_DAE():\n",
    "    spec_input = Input(shape=(5500, 1), dtype='float64', name='spec_input')\n",
    "    conv = Conv1D(filters=128, kernel_size=5, padding='same', activation='relu', strides=4)(spec_input)\n",
    "    pool = MaxPooling1D(pool_size=2, padding='same')(conv)\n",
    "    conv2 = Conv1D(filters=64, kernel_size=5, padding='same', activation='relu', strides=4)(pool)\n",
    "    pool2 = MaxPooling1D(pool_size=2, padding='same')(conv2)\n",
    "    conv3 = Conv1D(filters=32, kernel_size=3, padding='same', activation='relu', strides=4)(pool2)\n",
    "    pool3 = MaxPooling1D(pool_size=2, padding='same')(conv3)\n",
    "    flat = tf.keras.layers.Flatten()(pool3)\n",
    "    \n",
    "    ## Begin upsampling layers\n",
    "    up = Dense(640, activation='elu', kernel_regularizer=tf.keras.regularizers.l2())(flat)\n",
    "#     up2 = Dense(1024, activation='elu', kernel_regularizer=tf.keras.regularizers.l2)(up)\n",
    "#     up3 = Dense(2048, activation='elu', kernel_regularizer=tf.keras.regularizers.l2)(up2)\n",
    "    out = Dense(5500, kernel_regularizer=tf.keras.regularizers.l2())(up)\n",
    "    model = tf.keras.Model(inputs=spec_input, outputs=out)\n",
    "    return model"
   ]
  },
  {
   "cell_type": "code",
   "execution_count": 9,
   "metadata": {
    "ExecuteTime": {
     "end_time": "2019-11-27T20:48:41.391351Z",
     "start_time": "2019-11-27T20:48:41.154791Z"
    }
   },
   "outputs": [],
   "source": [
    "model = build_DAE()"
   ]
  },
  {
   "cell_type": "code",
   "execution_count": 10,
   "metadata": {
    "ExecuteTime": {
     "end_time": "2019-11-27T20:48:42.040688Z",
     "start_time": "2019-11-27T20:48:42.035554Z"
    }
   },
   "outputs": [
    {
     "name": "stdout",
     "output_type": "stream",
     "text": [
      "Model: \"model\"\n",
      "_________________________________________________________________\n",
      "Layer (type)                 Output Shape              Param #   \n",
      "=================================================================\n",
      "spec_input (InputLayer)      [(None, 5500, 1)]         0         \n",
      "_________________________________________________________________\n",
      "conv1d (Conv1D)              (None, 1375, 128)         768       \n",
      "_________________________________________________________________\n",
      "max_pooling1d (MaxPooling1D) (None, 688, 128)          0         \n",
      "_________________________________________________________________\n",
      "conv1d_1 (Conv1D)            (None, 172, 64)           41024     \n",
      "_________________________________________________________________\n",
      "max_pooling1d_1 (MaxPooling1 (None, 86, 64)            0         \n",
      "_________________________________________________________________\n",
      "conv1d_2 (Conv1D)            (None, 22, 32)            6176      \n",
      "_________________________________________________________________\n",
      "max_pooling1d_2 (MaxPooling1 (None, 11, 32)            0         \n",
      "_________________________________________________________________\n",
      "flatten (Flatten)            (None, 352)               0         \n",
      "_________________________________________________________________\n",
      "dense (Dense)                (None, 640)               225920    \n",
      "_________________________________________________________________\n",
      "dense_1 (Dense)              (None, 5500)              3525500   \n",
      "=================================================================\n",
      "Total params: 3,799,388\n",
      "Trainable params: 3,799,388\n",
      "Non-trainable params: 0\n",
      "_________________________________________________________________\n"
     ]
    }
   ],
   "source": [
    "model.summary()"
   ]
  },
  {
   "cell_type": "code",
   "execution_count": 11,
   "metadata": {
    "ExecuteTime": {
     "end_time": "2019-11-27T20:48:45.308954Z",
     "start_time": "2019-11-27T20:48:45.253505Z"
    }
   },
   "outputs": [],
   "source": [
    "model.compile(optimizer='adam', loss='mse', metrics=['accuracy'])"
   ]
  },
  {
   "cell_type": "code",
   "execution_count": null,
   "metadata": {
    "ExecuteTime": {
     "start_time": "2019-11-27T20:48:48.187Z"
    }
   },
   "outputs": [
    {
     "name": "stdout",
     "output_type": "stream",
     "text": [
      "Train on 8000 samples, validate on 2000 samples\n"
     ]
    }
   ],
   "source": [
    "model.fit(input_tensor, target_tensor, batch_size=20, validation_split=0.2)"
   ]
  },
  {
   "cell_type": "code",
   "execution_count": 19,
   "metadata": {
    "ExecuteTime": {
     "end_time": "2019-11-27T20:44:21.322369Z",
     "start_time": "2019-11-27T20:44:21.306297Z"
    }
   },
   "outputs": [
    {
     "data": {
      "text/plain": [
       "<tf.Tensor: id=626, shape=(), dtype=int32, numpy=1>"
      ]
     },
     "execution_count": 19,
     "metadata": {},
     "output_type": "execute_result"
    }
   ],
   "source": [
    "tf.losses.mse([0], [1])"
   ]
  },
  {
   "cell_type": "code",
   "execution_count": null,
   "metadata": {},
   "outputs": [],
   "source": []
  }
 ],
 "metadata": {
  "kernelspec": {
   "display_name": "Python 3",
   "language": "python",
   "name": "python3"
  },
  "language_info": {
   "codemirror_mode": {
    "name": "ipython",
    "version": 3
   },
   "file_extension": ".py",
   "mimetype": "text/x-python",
   "name": "python",
   "nbconvert_exporter": "python",
   "pygments_lexer": "ipython3",
   "version": "3.7.5"
  }
 },
 "nbformat": 4,
 "nbformat_minor": 2
}
