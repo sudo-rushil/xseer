{
 "cells": [
  {
   "cell_type": "code",
   "execution_count": 34,
   "metadata": {
    "ExecuteTime": {
     "end_time": "2019-11-27T01:13:01.896542Z",
     "start_time": "2019-11-27T01:13:01.893267Z"
    }
   },
   "outputs": [],
   "source": [
    "import tensorflow as tf\n",
    "from tensorflow.keras.layers import Input, Conv1D, Embedding, Dense, Dropout, MaxPooling1D, LSTM\n",
    "from tensorflow.keras.models import Model\n",
    "import numpy as np\n",
    "import gzip"
   ]
  },
  {
   "cell_type": "code",
   "execution_count": 49,
   "metadata": {
    "ExecuteTime": {
     "end_time": "2019-11-27T01:19:55.363204Z",
     "start_time": "2019-11-27T01:19:55.360709Z"
    }
   },
   "outputs": [],
   "source": [
    "tf.keras.backend.set_floatx('float64')"
   ]
  },
  {
   "cell_type": "code",
   "execution_count": 2,
   "metadata": {
    "ExecuteTime": {
     "end_time": "2019-11-27T01:01:11.056066Z",
     "start_time": "2019-11-27T01:00:17.511083Z"
    }
   },
   "outputs": [],
   "source": [
    "with gzip.open('spectra_vecs.npy.gz') as f:\n",
    "    A = np.load(f)"
   ]
  },
  {
   "cell_type": "code",
   "execution_count": 16,
   "metadata": {
    "ExecuteTime": {
     "end_time": "2019-11-27T01:06:28.131459Z",
     "start_time": "2019-11-27T01:05:45.421593Z"
    }
   },
   "outputs": [],
   "source": [
    "R = np.random.normal(0, 1, size=A.shape)"
   ]
  },
  {
   "cell_type": "code",
   "execution_count": 82,
   "metadata": {
    "ExecuteTime": {
     "end_time": "2019-11-27T01:32:00.722945Z",
     "start_time": "2019-11-27T01:30:50.489343Z"
    }
   },
   "outputs": [],
   "source": [
    "input_tensor, target_tensor = np.expand_dims(A + R, axis=-1), A"
   ]
  },
  {
   "cell_type": "code",
   "execution_count": 92,
   "metadata": {
    "ExecuteTime": {
     "end_time": "2019-11-27T01:36:20.851544Z",
     "start_time": "2019-11-27T01:36:20.844899Z"
    }
   },
   "outputs": [],
   "source": [
    "def build_encoder():\n",
    "    spec_input = Input(shape=(5500, 1), dtype='float64', name='spec_input')\n",
    "    conv = Conv1D(filters=128, kernel_size=5, padding='same', activation='relu', strides=4)(spec_input)\n",
    "    pool = MaxPooling1D(pool_size=2, padding='same')(conv)\n",
    "    conv2 = Conv1D(filters=64, kernel_size=5, padding='same', activation='relu', strides=4)(pool)\n",
    "    pool2 = MaxPooling1D(pool_size=2, padding='same')(conv2)\n",
    "    conv3 = Conv1D(filters=32, kernel_size=3, padding='same', activation='relu', strides=4)(pool2)\n",
    "    pool3 = MaxPooling1D(pool_size=2, padding='same')(conv3)\n",
    "    flat = tf.keras.layers.Flatten()(pool3)\n",
    "    output = Dense(64, activation=None)(flat)\n",
    "    model = tf.keras.Model(inputs=spec_input, outputs=output)\n",
    "    return model"
   ]
  },
  {
   "cell_type": "code",
   "execution_count": 93,
   "metadata": {
    "ExecuteTime": {
     "end_time": "2019-11-27T01:36:21.206960Z",
     "start_time": "2019-11-27T01:36:21.120514Z"
    }
   },
   "outputs": [],
   "source": [
    "encoder = build_encoder()"
   ]
  },
  {
   "cell_type": "code",
   "execution_count": 94,
   "metadata": {
    "ExecuteTime": {
     "end_time": "2019-11-27T01:36:21.391296Z",
     "start_time": "2019-11-27T01:36:21.386731Z"
    }
   },
   "outputs": [
    {
     "name": "stdout",
     "output_type": "stream",
     "text": [
      "Model: \"model_13\"\n",
      "_________________________________________________________________\n",
      "Layer (type)                 Output Shape              Param #   \n",
      "=================================================================\n",
      "spec_input (InputLayer)      [(None, 5500, 1)]         0         \n",
      "_________________________________________________________________\n",
      "conv1d_39 (Conv1D)           (None, 1375, 128)         768       \n",
      "_________________________________________________________________\n",
      "max_pooling1d_36 (MaxPooling (None, 688, 128)          0         \n",
      "_________________________________________________________________\n",
      "conv1d_40 (Conv1D)           (None, 172, 64)           41024     \n",
      "_________________________________________________________________\n",
      "max_pooling1d_37 (MaxPooling (None, 86, 64)            0         \n",
      "_________________________________________________________________\n",
      "conv1d_41 (Conv1D)           (None, 22, 32)            6176      \n",
      "_________________________________________________________________\n",
      "max_pooling1d_38 (MaxPooling (None, 11, 32)            0         \n",
      "_________________________________________________________________\n",
      "flatten_5 (Flatten)          (None, 352)               0         \n",
      "_________________________________________________________________\n",
      "dense_13 (Dense)             (None, 64)                22592     \n",
      "=================================================================\n",
      "Total params: 70,560\n",
      "Trainable params: 70,560\n",
      "Non-trainable params: 0\n",
      "_________________________________________________________________\n"
     ]
    }
   ],
   "source": [
    "encoder.summary()"
   ]
  },
  {
   "cell_type": "code",
   "execution_count": 96,
   "metadata": {
    "ExecuteTime": {
     "end_time": "2019-11-27T01:40:18.863329Z",
     "start_time": "2019-11-27T01:40:18.855872Z"
    }
   },
   "outputs": [],
   "source": [
    "def build_decoder():\n",
    "    encode_input = Input(shape=(16,), dtype='float64', name='encode_input')\n",
    "    up = Dense(320, activation='elu', kernel_regularizer=tf.keras.regularizers.l2)(encode_input)\n",
    "    up2 = Dense(320, activation='elu', kernel_regularizer=tf.keras.regularizers.l2)(up)\n",
    "    up3 = Dense(320, activation='elu', kernel_regularizer=tf.keras.regularizers.l2)(up2)\n",
    "    up4 = Dense(320, activation='elu', kernel_regularizer=tf.keras.regularizers.l2)(up3)\n",
    "    out = Dense(5500, kernel_regularizer=tf.keras.regularizers.l2)(up4)\n",
    "    return tf.keras.Model(inputs=encode_input, outputs=out)"
   ]
  },
  {
   "cell_type": "code",
   "execution_count": null,
   "metadata": {},
   "outputs": [],
   "source": []
  },
  {
   "cell_type": "code",
   "execution_count": 83,
   "metadata": {
    "ExecuteTime": {
     "end_time": "2019-11-27T01:32:36.160498Z",
     "start_time": "2019-11-27T01:32:36.150781Z"
    }
   },
   "outputs": [
    {
     "name": "stdout",
     "output_type": "stream",
     "text": [
      "(300000, 5500, 1)\n",
      "(300000, 5500)\n"
     ]
    }
   ],
   "source": [
    "print(input_tensor.shape)\n",
    "print(target_tensor.shape)"
   ]
  },
  {
   "cell_type": "code",
   "execution_count": 95,
   "metadata": {
    "ExecuteTime": {
     "end_time": "2019-11-27T01:38:39.897526Z",
     "start_time": "2019-11-27T01:38:39.893923Z"
    }
   },
   "outputs": [
    {
     "data": {
      "text/plain": [
       "<function tensorflow.python.keras.regularizers.l2(l=0.01)>"
      ]
     },
     "execution_count": 95,
     "metadata": {},
     "output_type": "execute_result"
    }
   ],
   "source": []
  },
  {
   "cell_type": "code",
   "execution_count": null,
   "metadata": {},
   "outputs": [],
   "source": []
  }
 ],
 "metadata": {
  "kernelspec": {
   "display_name": "Python 3",
   "language": "python",
   "name": "python3"
  },
  "language_info": {
   "codemirror_mode": {
    "name": "ipython",
    "version": 3
   },
   "file_extension": ".py",
   "mimetype": "text/x-python",
   "name": "python",
   "nbconvert_exporter": "python",
   "pygments_lexer": "ipython3",
   "version": "3.7.5"
  }
 },
 "nbformat": 4,
 "nbformat_minor": 2
}
